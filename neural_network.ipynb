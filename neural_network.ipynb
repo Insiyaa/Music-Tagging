{
 "cells": [
  {
   "cell_type": "code",
   "execution_count": 155,
   "metadata": {},
   "outputs": [],
   "source": [
    "import numpy as np\n",
    "import pandas as pd\n",
    "from sklearn.model_selection import train_test_split\n",
    "from sklearn.preprocessing import normalize"
   ]
  },
  {
   "cell_type": "code",
   "execution_count": null,
   "metadata": {},
   "outputs": [],
   "source": [
    "df = pd.read_csv('data_2genre.csv')\n",
    "df.iloc[:, -1] = df.iloc[:,-1].replace({2:0})"
   ]
  },
  {
   "cell_type": "code",
   "execution_count": null,
   "metadata": {},
   "outputs": [],
   "source": [
    "X = df.iloc[:, 1:-1]\n",
    "X = normalize(X)\n",
    "y = df.iloc[:, -1] "
   ]
  },
  {
   "cell_type": "code",
   "execution_count": null,
   "metadata": {},
   "outputs": [],
   "source": [
    "X_train, X_test, y_train, y_test = train_test_split(X, y, random_state = 0) \n",
    "X_train, X_test, y_train, y_test = X_train.T, X_test.T, y_train.values.reshape(1, 150), y_test.values.reshape(1, 50)"
   ]
  },
  {
   "cell_type": "code",
   "execution_count": null,
   "metadata": {},
   "outputs": [],
   "source": [
    "learning_rate = 0.5\n",
    "num_iter = 10000"
   ]
  },
  {
   "cell_type": "code",
   "execution_count": 156,
   "metadata": {},
   "outputs": [],
   "source": [
    "def sigmoid(z):\n",
    "    return (1 / (1 + np.exp(-z)))"
   ]
  },
  {
   "cell_type": "code",
   "execution_count": null,
   "metadata": {},
   "outputs": [],
   "source": [
    "def train(X_train, y_train, num_iter=10000, learning_rate=0.5, hidden_layer_num=15):\n",
    "    \n",
    "    n = X_train.shape[0]\n",
    "    m = X_train.shape[1]\n",
    "    w1 = np.random.randn(hidden_layer_num, n) * 0.01 #\n",
    "    b1 = np.random.randn(hidden_layer_num, 1)\n",
    "    w2 = np.random.randn(1, hidden_layer_num) * 0.01 #\n",
    "    b2 = np.random.randn(1, 1)\n",
    "    for i in range(num_iter):\n",
    "        Z1 = np.dot(w1, X_train) + b1\n",
    "        A1 = sigmoid(Z1) \n",
    "        Z2 = np.dot(w2, A1) + b2\n",
    "        A2 = sigmoid(Z2) \n",
    "        cost = np.sum((y_train * np.log(A2)) + ((1-y_train) * np.log(1-A2))) * (-1/m)\n",
    "\n",
    "        dZ2 = A2 - y_train\n",
    "        dW2 = np.dot(dZ2, A1.T) / m  #######\n",
    "        db2 = np.sum(dZ2, axis=1, keepdims=True) * (1 / m)\n",
    "\n",
    "        dA1 = np.dot(w2.T, dZ2)\n",
    "        dZ1 = dA1 * sigmoid(Z1) * (1 - sigmoid(Z1))\n",
    "        dW1 = np.dot(dZ1, X_train.T) / m #######\n",
    "        db1 = np.sum(dZ1, axis=1, keepdims=True) * (1 / m)\n",
    "\n",
    "        w2 = w2 - learning_rate * dW2\n",
    "        b2 = b2 - learning_rate * db2\n",
    "        w1 = w1 - learning_rate * dW1\n",
    "        b1 = b1 - learning_rate * db1\n",
    "\n",
    "        if(i %1000 == 0):\n",
    "            print(f'At epoch {i}, cost is {cost}')\n",
    "    return [w1, w2, b1, b2]"
   ]
  },
  {
   "cell_type": "code",
   "execution_count": null,
   "metadata": {},
   "outputs": [],
   "source": [
    "params = train(X_train, y_train,num_iter=20000, learning_rate=1, hidden_layer_num=17)"
   ]
  },
  {
   "cell_type": "code",
   "execution_count": null,
   "metadata": {},
   "outputs": [],
   "source": [
    "def score(X, y, w1, w2, b1, b2):\n",
    "    Z1 = np.dot(w1, X) + b1\n",
    "    A1 = sigmoid(Z1) \n",
    "    Z2 = np.dot(w2, A1) + b2\n",
    "    A2 = sigmoid(Z2)\n",
    "    Y_prediction = (A2 > 0.5).astype(float)\n",
    "    print(\"Accuracy: {} %\".format(100 - np.mean(np.abs(Y_prediction - y)) * 100))\n",
    "    "
   ]
  },
  {
   "cell_type": "code",
   "execution_count": null,
   "metadata": {},
   "outputs": [],
   "source": [
    "score(X_train, y_train, *params)\n",
    "score(X_test, y_test, *params)"
   ]
  },
  {
   "cell_type": "markdown",
   "metadata": {},
   "source": [
    "# Multiclass "
   ]
  },
  {
   "cell_type": "code",
   "execution_count": 220,
   "metadata": {},
   "outputs": [],
   "source": [
    "from sklearn.preprocessing import OneHotEncoder\n",
    "from sklearn.preprocessing import LabelEncoder\n",
    "from sklearn.metrics import confusion_matrix, classification_report"
   ]
  },
  {
   "cell_type": "code",
   "execution_count": 158,
   "metadata": {},
   "outputs": [],
   "source": [
    "data = pd.read_csv('data.csv')"
   ]
  },
  {
   "cell_type": "code",
   "execution_count": 209,
   "metadata": {},
   "outputs": [],
   "source": [
    "X = data.iloc[:, 1:-1]\n",
    "X = normalize(X)\n",
    "\n",
    "y = data.iloc[:, -1] \n",
    "y_labelled = LabelEncoder().fit_transform(y)\n",
    "\n",
    "X_train, X_test, y_train, y_test = train_test_split(X, y_labelled, random_state = 0) \n",
    "X_train, X_test, y_train, y_test = X_train.T, X_test.T, y_train.reshape(1, 750), y_test.reshape(1, 250)\n",
    "\n",
    "\n",
    "yone_train = OneHotEncoder(sparse=False).fit_transform(y_train.reshape(-1, 1), y=None)\n",
    "yone_train = yone_train.T\n",
    "\n",
    "yone_test = OneHotEncoder(sparse=False).fit_transform(y_test.reshape(-1, 1), y=None)\n",
    "yone_test = yone_test.T"
   ]
  },
  {
   "cell_type": "code",
   "execution_count": 210,
   "metadata": {},
   "outputs": [],
   "source": [
    "def train_multi(X_train, y_train, num_iter=10000, learning_rate=0.5, hidden_layer_num=15):\n",
    "    \n",
    "    n = X_train.shape[0]\n",
    "    m = y_train.shape[1]\n",
    "    w1 = np.random.randn(hidden_layer_num, n) * 0.01 #\n",
    "    b1 = np.random.randn(hidden_layer_num, 1)\n",
    "    w2 = np.random.randn(10, hidden_layer_num) * 0.01 #\n",
    "    b2 = np.random.randn(10, 1)\n",
    "    for i in range(num_iter):\n",
    "        Z1 = np.dot(w1, X_train) + b1\n",
    "        A1 = sigmoid(Z1) \n",
    "        Z2 = np.dot(w2, A1) + b2\n",
    "        A2 = np.exp(Z2) / np.sum(np.exp(Z2), axis=0) # SOFTMAX\n",
    "        cost = np.sum(y_train * np.log(A2)) * (-1/m)\n",
    "\n",
    "        dZ2 = A2 - y_train\n",
    "        dW2 = np.dot(dZ2, A1.T) / m  #######\n",
    "        db2 = np.sum(dZ2, axis=1, keepdims=True) * (1 / m)\n",
    "\n",
    "        dA1 = np.dot(w2.T, dZ2)\n",
    "        dZ1 = dA1 * sigmoid(Z1) * (1 - sigmoid(Z1))\n",
    "        dW1 = np.dot(dZ1, X_train.T) / m #######\n",
    "        db1 = np.sum(dZ1, axis=1, keepdims=True) * (1 / m)\n",
    "\n",
    "        w2 = w2 - learning_rate * dW2\n",
    "        b2 = b2 - learning_rate * db2\n",
    "        w1 = w1 - learning_rate * dW1\n",
    "        b1 = b1 - learning_rate * db1\n",
    "\n",
    "        if(i %1000 == 0):\n",
    "            print(f'At epoch {i}, cost is {cost}')\n",
    "    return [w1, w2, b1, b2]"
   ]
  },
  {
   "cell_type": "code",
   "execution_count": 244,
   "metadata": {},
   "outputs": [],
   "source": [
    "def score_multi(X, y, w1, w2, b1, b2):\n",
    "    # y is one-hot-encoded\n",
    "    Z1 = np.dot(w1, X) + b1\n",
    "    A1 = sigmoid(Z1) \n",
    "    Z2 = np.dot(w2, A1) + b2\n",
    "    A2 = np.exp(Z2) / np.sum(np.exp(Z2), axis=0) # SOFTMAX\n",
    "    Y_predictions = np.argmax(A2, axis=0).reshape(750,1)\n",
    "    labels = np.argmax(y, axis=0)\n",
    "    print(classification_report(Y_predictions, labels))    "
   ]
  },
  {
   "cell_type": "code",
   "execution_count": 230,
   "metadata": {},
   "outputs": [
    {
     "name": "stdout",
     "output_type": "stream",
     "text": [
      "At epoch 0, cost is 2.5770290313751767\n",
      "At epoch 1000, cost is 2.2981331255033393\n",
      "At epoch 2000, cost is 2.264478985836349\n",
      "At epoch 3000, cost is 2.0687115230972406\n",
      "At epoch 4000, cost is 1.981307395982239\n",
      "At epoch 5000, cost is 1.952453677723007\n",
      "At epoch 6000, cost is 1.9350599606530732\n",
      "At epoch 7000, cost is 1.9163748149140036\n",
      "At epoch 8000, cost is 1.88847294962093\n",
      "At epoch 9000, cost is 1.8478822796864753\n",
      "At epoch 10000, cost is 1.80730034182107\n",
      "At epoch 11000, cost is 1.7804664629468436\n",
      "At epoch 12000, cost is 1.7652118646385995\n",
      "At epoch 13000, cost is 1.7558475375026277\n",
      "At epoch 14000, cost is 1.7491554140624597\n",
      "At epoch 15000, cost is 1.7437060447091595\n",
      "At epoch 16000, cost is 1.7388718861144334\n",
      "At epoch 17000, cost is 1.7495292617374303\n",
      "At epoch 18000, cost is 1.7431078211444122\n",
      "At epoch 19000, cost is 1.7388163636005673\n",
      "At epoch 20000, cost is 1.7345875479582737\n",
      "At epoch 21000, cost is 1.7302088104386746\n",
      "At epoch 22000, cost is 1.7255917944841495\n",
      "At epoch 23000, cost is 1.7206748345351486\n",
      "At epoch 24000, cost is 1.7154144331779941\n",
      "At epoch 25000, cost is 1.7097949181360055\n",
      "At epoch 26000, cost is 1.7038352109833006\n",
      "At epoch 27000, cost is 1.6975829702333451\n",
      "At epoch 28000, cost is 1.691100053664705\n",
      "At epoch 29000, cost is 1.6844526223530973\n",
      "At epoch 30000, cost is 1.6777168113894076\n",
      "At epoch 31000, cost is 1.671005959020152\n",
      "At epoch 32000, cost is 1.6645321008284735\n",
      "At epoch 33000, cost is 1.658725564036206\n",
      "At epoch 34000, cost is 1.6543021457015936\n",
      "At epoch 35000, cost is 1.651304171176831\n",
      "At epoch 36000, cost is 1.6476388528495736\n",
      "At epoch 37000, cost is 1.6424454115005245\n",
      "At epoch 38000, cost is 1.6367567870946191\n",
      "At epoch 39000, cost is 1.6310324416699022\n",
      "At epoch 40000, cost is 1.6253195179837743\n",
      "At epoch 41000, cost is 1.619617788760995\n",
      "At epoch 42000, cost is 1.6139347034616003\n",
      "At epoch 43000, cost is 1.6082830891067887\n",
      "At epoch 44000, cost is 1.6026777833579262\n",
      "At epoch 45000, cost is 1.5971354429161198\n",
      "At epoch 46000, cost is 1.5916752398644767\n",
      "At epoch 47000, cost is 1.5863185034894334\n",
      "At epoch 48000, cost is 1.5810866912894683\n",
      "At epoch 49000, cost is 1.5759983486275062\n",
      "At epoch 50000, cost is 1.5710662941766587\n",
      "At epoch 51000, cost is 1.5662960040818124\n",
      "At epoch 52000, cost is 1.5616855440236113\n",
      "At epoch 53000, cost is 1.557226821645871\n",
      "At epoch 54000, cost is 1.5529075593203925\n",
      "At epoch 55000, cost is 1.5487133289249926\n",
      "At epoch 56000, cost is 1.5446292077078008\n",
      "At epoch 57000, cost is 1.5406409045540095\n",
      "At epoch 58000, cost is 1.5367354043529267\n",
      "At epoch 59000, cost is 1.5329012547752423\n",
      "At epoch 60000, cost is 1.5291286198257896\n",
      "At epoch 61000, cost is 1.5254091959495943\n",
      "At epoch 62000, cost is 1.5217360553190422\n",
      "At epoch 63000, cost is 1.5181034557661788\n",
      "At epoch 64000, cost is 1.5145065548817624\n",
      "At epoch 65000, cost is 1.523449075197951\n",
      "At epoch 66000, cost is 1.5092075914615415\n",
      "At epoch 67000, cost is 1.5069367911784133\n",
      "At epoch 68000, cost is 1.4812460506481044\n",
      "At epoch 69000, cost is 1.4900246349866924\n",
      "At epoch 70000, cost is 1.499704613694482\n",
      "At epoch 71000, cost is 1.4859951077189053\n",
      "At epoch 72000, cost is 1.4972816541513887\n",
      "At epoch 73000, cost is 1.489751748733525\n",
      "At epoch 74000, cost is 1.4954731953045912\n",
      "At epoch 75000, cost is 1.4850513269274703\n",
      "At epoch 76000, cost is 1.4734609441956041\n",
      "At epoch 77000, cost is 1.4800849849021842\n",
      "At epoch 78000, cost is 1.489130459306715\n",
      "At epoch 79000, cost is 1.4921373080405422\n",
      "At epoch 80000, cost is 1.4690314947202812\n",
      "At epoch 81000, cost is 1.4698611458999682\n",
      "At epoch 82000, cost is 1.4632601528778508\n",
      "At epoch 83000, cost is 1.448263719059034\n",
      "At epoch 84000, cost is 1.4542266577100411\n",
      "At epoch 85000, cost is 1.4602974247785616\n",
      "At epoch 86000, cost is 1.4484061371971189\n",
      "At epoch 87000, cost is 1.4596954430128968\n",
      "At epoch 88000, cost is 1.4711058643838568\n",
      "At epoch 89000, cost is 1.4333686406051314\n",
      "At epoch 90000, cost is 1.4552577354172669\n",
      "At epoch 91000, cost is 1.45029158421938\n",
      "At epoch 92000, cost is 1.4612628760159756\n",
      "At epoch 93000, cost is 1.4370917729148083\n",
      "At epoch 94000, cost is 1.4215789870098032\n",
      "At epoch 95000, cost is 1.4453716577539555\n",
      "At epoch 96000, cost is 1.4492125122956336\n",
      "At epoch 97000, cost is 1.432299975485479\n",
      "At epoch 98000, cost is 1.414400695919884\n",
      "At epoch 99000, cost is 1.4338831381242518\n",
      "At epoch 100000, cost is 1.4317487024752287\n",
      "At epoch 101000, cost is 1.4130037186012243\n",
      "At epoch 102000, cost is 1.446007925285098\n",
      "At epoch 103000, cost is 1.4047643456996508\n",
      "At epoch 104000, cost is 1.4445053418902467\n",
      "At epoch 105000, cost is 1.4128999762978407\n",
      "At epoch 106000, cost is 1.4223158677154066\n",
      "At epoch 107000, cost is 1.425465161922392\n",
      "At epoch 108000, cost is 1.400537977160569\n",
      "At epoch 109000, cost is 1.4121980200560968\n",
      "At epoch 110000, cost is 1.4384716682888385\n",
      "At epoch 111000, cost is 1.4178691120632763\n",
      "At epoch 112000, cost is 1.3978500055761633\n",
      "At epoch 113000, cost is 1.3801649110138248\n",
      "At epoch 114000, cost is 1.3989471804673033\n",
      "At epoch 115000, cost is 1.4214672395380972\n",
      "At epoch 116000, cost is 1.4092498544577823\n",
      "At epoch 117000, cost is 1.3887821697249345\n",
      "At epoch 118000, cost is 1.3747725529821315\n",
      "At epoch 119000, cost is 1.3896151497558236\n",
      "At epoch 120000, cost is 1.41320311974894\n",
      "At epoch 121000, cost is 1.4010411034837404\n",
      "At epoch 122000, cost is 1.3760565752305765\n",
      "At epoch 123000, cost is 1.3870211773400467\n",
      "At epoch 124000, cost is 1.4002187108567292\n",
      "At epoch 125000, cost is 1.3905014488348666\n",
      "At epoch 126000, cost is 1.374870716748801\n",
      "At epoch 127000, cost is 1.372393270674334\n",
      "At epoch 128000, cost is 1.4008070332128804\n",
      "At epoch 129000, cost is 1.3822811056434325\n",
      "At epoch 130000, cost is 1.3609063815031541\n",
      "At epoch 131000, cost is 1.3878864886197348\n",
      "At epoch 132000, cost is 1.3647140643088083\n",
      "At epoch 133000, cost is 1.3788837785799017\n",
      "At epoch 134000, cost is 1.3546800479894627\n",
      "At epoch 135000, cost is 1.3714800939753498\n",
      "At epoch 136000, cost is 1.3548703089408363\n",
      "At epoch 137000, cost is 1.3546776004820746\n",
      "At epoch 138000, cost is 1.3763225628074045\n",
      "At epoch 139000, cost is 1.3540901946911306\n",
      "At epoch 140000, cost is 1.3515286566205458\n",
      "At epoch 141000, cost is 1.3458214997431974\n",
      "At epoch 142000, cost is 1.3600370965029962\n",
      "At epoch 143000, cost is 1.3387187756343772\n",
      "At epoch 144000, cost is 1.345735299442868\n",
      "At epoch 145000, cost is 1.3585815207024272\n",
      "At epoch 146000, cost is 1.3429258566180973\n",
      "At epoch 147000, cost is 1.348835502511484\n",
      "At epoch 148000, cost is 1.3577941464489995\n",
      "At epoch 149000, cost is 1.3301039416701632\n",
      "At epoch 150000, cost is 1.3805506747956486\n",
      "At epoch 151000, cost is 1.3548324840618582\n",
      "At epoch 152000, cost is 1.3308148953021954\n",
      "At epoch 153000, cost is 1.3800634458126673\n",
      "At epoch 154000, cost is 1.331136594074967\n",
      "At epoch 155000, cost is 1.3317382267213767\n",
      "At epoch 156000, cost is 1.3472413254095845\n",
      "At epoch 157000, cost is 1.3331388620587852\n",
      "At epoch 158000, cost is 1.3440995749774152\n",
      "At epoch 159000, cost is 1.3485225309204933\n",
      "At epoch 160000, cost is 1.3253123380196412\n",
      "At epoch 161000, cost is 1.345564219885978\n",
      "At epoch 162000, cost is 1.352136879061476\n",
      "At epoch 163000, cost is 1.348054754301783\n",
      "At epoch 164000, cost is 1.3105903612056515\n",
      "At epoch 165000, cost is 1.3124974272118088\n",
      "At epoch 166000, cost is 1.3615487659371377\n",
      "At epoch 167000, cost is 1.3192127719611653\n",
      "At epoch 168000, cost is 1.3010289952898115\n",
      "At epoch 169000, cost is 1.3134665984095624\n",
      "At epoch 170000, cost is 1.3158095242818626\n",
      "At epoch 171000, cost is 1.3229197205296408\n",
      "At epoch 172000, cost is 1.3095343894074298\n",
      "At epoch 173000, cost is 1.3197194503595657\n",
      "At epoch 174000, cost is 1.32017743728362\n",
      "At epoch 175000, cost is 1.3387669723626374\n",
      "At epoch 176000, cost is 1.3430215624729207\n",
      "At epoch 177000, cost is 1.319652395617426\n",
      "At epoch 178000, cost is 1.3346579086554016\n",
      "At epoch 179000, cost is 1.326773549863158\n",
      "At epoch 180000, cost is 1.2909413238701724\n",
      "At epoch 181000, cost is 1.3066249306776174\n",
      "At epoch 182000, cost is 1.298506867199622\n",
      "At epoch 183000, cost is 1.3075092756935638\n",
      "At epoch 184000, cost is 1.3284998264540941\n",
      "At epoch 185000, cost is 1.291030878277074\n",
      "At epoch 186000, cost is 1.2828586859645867\n",
      "At epoch 187000, cost is 1.2883305871506612\n",
      "At epoch 188000, cost is 1.3011092945991458\n",
      "At epoch 189000, cost is 1.2997113622686713\n"
     ]
    },
    {
     "name": "stdout",
     "output_type": "stream",
     "text": [
      "At epoch 190000, cost is 1.2982324391355775\n",
      "At epoch 191000, cost is 1.3006413600028202\n",
      "At epoch 192000, cost is 1.2821832708257663\n",
      "At epoch 193000, cost is 1.302732859943975\n",
      "At epoch 194000, cost is 1.293710018561376\n",
      "At epoch 195000, cost is 1.2963933063608613\n",
      "At epoch 196000, cost is 1.2904233830781822\n",
      "At epoch 197000, cost is 1.2994188965754092\n",
      "At epoch 198000, cost is 1.2928360580671254\n",
      "At epoch 199000, cost is 1.3044683461656639\n"
     ]
    }
   ],
   "source": [
    "params = train_multi(X_train, yone_train,num_iter=200000, learning_rate=0.5, hidden_layer_num=18)"
   ]
  },
  {
   "cell_type": "code",
   "execution_count": 241,
   "metadata": {},
   "outputs": [
    {
     "name": "stdout",
     "output_type": "stream",
     "text": [
      "             precision    recall  f1-score   support\n",
      "\n",
      "          0       0.71      0.41      0.52        37\n",
      "          1       0.81      0.72      0.76        18\n",
      "          2       0.47      0.40      0.43        35\n",
      "          3       0.35      0.33      0.34        27\n",
      "          4       0.00      0.00      0.00         0\n",
      "          5       0.27      0.58      0.37        12\n",
      "          6       0.85      0.74      0.79        31\n",
      "          7       0.81      0.39      0.53        54\n",
      "          8       0.45      0.45      0.45        20\n",
      "          9       0.20      0.38      0.26        16\n",
      "\n",
      "avg / total       0.61      0.47      0.51       250\n",
      "\n"
     ]
    },
    {
     "name": "stderr",
     "output_type": "stream",
     "text": [
      "/home/insiyeah/.local/lib/python3.6/site-packages/sklearn/metrics/classification.py:1137: UndefinedMetricWarning: Recall and F-score are ill-defined and being set to 0.0 in labels with no true samples.\n",
      "  'recall', 'true', average, warn_for)\n"
     ]
    }
   ],
   "source": [
    "score_multi(X_test, yone_test, *params)"
   ]
  },
  {
   "cell_type": "code",
   "execution_count": 245,
   "metadata": {},
   "outputs": [
    {
     "name": "stdout",
     "output_type": "stream",
     "text": [
      "             precision    recall  f1-score   support\n",
      "\n",
      "          0       0.62      0.42      0.50       118\n",
      "          1       0.94      0.90      0.92        88\n",
      "          2       0.51      0.43      0.47        84\n",
      "          3       0.47      0.38      0.42        92\n",
      "          4       0.04      1.00      0.08         3\n",
      "          5       0.22      0.64      0.32        25\n",
      "          6       0.73      0.69      0.71        77\n",
      "          7       0.92      0.49      0.64       138\n",
      "          8       0.53      0.64      0.58        66\n",
      "          9       0.17      0.20      0.19        59\n",
      "\n",
      "avg / total       0.63      0.52      0.56       750\n",
      "\n"
     ]
    }
   ],
   "source": [
    "score_multi(X_train, yone_train, *params)"
   ]
  }
 ],
 "metadata": {
  "kernelspec": {
   "display_name": "Python 3",
   "language": "python",
   "name": "python3"
  },
  "language_info": {
   "codemirror_mode": {
    "name": "ipython",
    "version": 3
   },
   "file_extension": ".py",
   "mimetype": "text/x-python",
   "name": "python",
   "nbconvert_exporter": "python",
   "pygments_lexer": "ipython3",
   "version": "3.6.5"
  }
 },
 "nbformat": 4,
 "nbformat_minor": 2
}
