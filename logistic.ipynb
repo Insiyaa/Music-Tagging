{
 "cells": [
  {
   "cell_type": "code",
   "execution_count": 28,
   "metadata": {},
   "outputs": [],
   "source": [
    "import pandas as pd\n",
    "import numpy as np\n",
    "import matplotlib.pyplot as plt\n",
    "from sklearn.model_selection import train_test_split\n",
    "from sklearn.preprocessing import normalize\n",
    "import librosa"
   ]
  },
  {
   "cell_type": "code",
   "execution_count": 29,
   "metadata": {},
   "outputs": [],
   "source": [
    "df = pd.read_csv('data_2genre.csv')\n",
    "df['label'] = (df['label'] == 2).astype(int)"
   ]
  },
  {
   "cell_type": "code",
   "execution_count": 30,
   "metadata": {},
   "outputs": [
    {
     "data": {
      "text/html": [
       "<div>\n",
       "<style scoped>\n",
       "    .dataframe tbody tr th:only-of-type {\n",
       "        vertical-align: middle;\n",
       "    }\n",
       "\n",
       "    .dataframe tbody tr th {\n",
       "        vertical-align: top;\n",
       "    }\n",
       "\n",
       "    .dataframe thead th {\n",
       "        text-align: right;\n",
       "    }\n",
       "</style>\n",
       "<table border=\"1\" class=\"dataframe\">\n",
       "  <thead>\n",
       "    <tr style=\"text-align: right;\">\n",
       "      <th></th>\n",
       "      <th>filename</th>\n",
       "      <th>tempo</th>\n",
       "      <th>beats</th>\n",
       "      <th>chroma_stft</th>\n",
       "      <th>rmse</th>\n",
       "      <th>spectral_centroid</th>\n",
       "      <th>spectral_bandwidth</th>\n",
       "      <th>rolloff</th>\n",
       "      <th>zero_crossing_rate</th>\n",
       "      <th>mfcc1</th>\n",
       "      <th>...</th>\n",
       "      <th>mfcc12</th>\n",
       "      <th>mfcc13</th>\n",
       "      <th>mfcc14</th>\n",
       "      <th>mfcc15</th>\n",
       "      <th>mfcc16</th>\n",
       "      <th>mfcc17</th>\n",
       "      <th>mfcc18</th>\n",
       "      <th>mfcc19</th>\n",
       "      <th>mfcc20</th>\n",
       "      <th>label</th>\n",
       "    </tr>\n",
       "  </thead>\n",
       "  <tbody>\n",
       "    <tr>\n",
       "      <th>0</th>\n",
       "      <td>pop.00024.au</td>\n",
       "      <td>117.453835</td>\n",
       "      <td>57</td>\n",
       "      <td>0.410990</td>\n",
       "      <td>0.207584</td>\n",
       "      <td>3301.781785</td>\n",
       "      <td>3175.656592</td>\n",
       "      <td>7302.597509</td>\n",
       "      <td>0.144527</td>\n",
       "      <td>-40.802069</td>\n",
       "      <td>...</td>\n",
       "      <td>-0.568772</td>\n",
       "      <td>0.552448</td>\n",
       "      <td>-1.981371</td>\n",
       "      <td>1.915755</td>\n",
       "      <td>0.076505</td>\n",
       "      <td>-1.270496</td>\n",
       "      <td>1.233082</td>\n",
       "      <td>1.493700</td>\n",
       "      <td>0.949931</td>\n",
       "      <td>0</td>\n",
       "    </tr>\n",
       "    <tr>\n",
       "      <th>1</th>\n",
       "      <td>pop.00099.au</td>\n",
       "      <td>78.302557</td>\n",
       "      <td>38</td>\n",
       "      <td>0.360462</td>\n",
       "      <td>0.138195</td>\n",
       "      <td>2765.747194</td>\n",
       "      <td>3222.713605</td>\n",
       "      <td>6873.391771</td>\n",
       "      <td>0.096015</td>\n",
       "      <td>-119.320605</td>\n",
       "      <td>...</td>\n",
       "      <td>1.566938</td>\n",
       "      <td>-2.932391</td>\n",
       "      <td>-1.609138</td>\n",
       "      <td>-0.200545</td>\n",
       "      <td>-2.429376</td>\n",
       "      <td>1.207988</td>\n",
       "      <td>5.848729</td>\n",
       "      <td>1.609469</td>\n",
       "      <td>7.580263</td>\n",
       "      <td>0</td>\n",
       "    </tr>\n",
       "    <tr>\n",
       "      <th>2</th>\n",
       "      <td>pop.00009.au</td>\n",
       "      <td>107.666016</td>\n",
       "      <td>50</td>\n",
       "      <td>0.454810</td>\n",
       "      <td>0.159711</td>\n",
       "      <td>3279.877315</td>\n",
       "      <td>3026.391118</td>\n",
       "      <td>6953.099622</td>\n",
       "      <td>0.172819</td>\n",
       "      <td>-35.277026</td>\n",
       "      <td>...</td>\n",
       "      <td>-0.518891</td>\n",
       "      <td>0.212918</td>\n",
       "      <td>-1.294660</td>\n",
       "      <td>-0.105626</td>\n",
       "      <td>-1.245879</td>\n",
       "      <td>-2.528455</td>\n",
       "      <td>0.571032</td>\n",
       "      <td>1.569434</td>\n",
       "      <td>-1.724873</td>\n",
       "      <td>0</td>\n",
       "    </tr>\n",
       "    <tr>\n",
       "      <th>3</th>\n",
       "      <td>pop.00078.au</td>\n",
       "      <td>103.359375</td>\n",
       "      <td>52</td>\n",
       "      <td>0.454698</td>\n",
       "      <td>0.223419</td>\n",
       "      <td>3124.176350</td>\n",
       "      <td>2970.320532</td>\n",
       "      <td>6618.134981</td>\n",
       "      <td>0.142721</td>\n",
       "      <td>-42.757179</td>\n",
       "      <td>...</td>\n",
       "      <td>3.020176</td>\n",
       "      <td>-1.242321</td>\n",
       "      <td>-3.524069</td>\n",
       "      <td>-0.325165</td>\n",
       "      <td>-1.443294</td>\n",
       "      <td>-1.864617</td>\n",
       "      <td>-0.031307</td>\n",
       "      <td>-0.729631</td>\n",
       "      <td>-0.987611</td>\n",
       "      <td>0</td>\n",
       "    </tr>\n",
       "    <tr>\n",
       "      <th>4</th>\n",
       "      <td>pop.00037.au</td>\n",
       "      <td>103.359375</td>\n",
       "      <td>51</td>\n",
       "      <td>0.451668</td>\n",
       "      <td>0.240985</td>\n",
       "      <td>3236.413205</td>\n",
       "      <td>2953.596262</td>\n",
       "      <td>6698.776160</td>\n",
       "      <td>0.164825</td>\n",
       "      <td>4.821123</td>\n",
       "      <td>...</td>\n",
       "      <td>1.753352</td>\n",
       "      <td>3.336132</td>\n",
       "      <td>2.352307</td>\n",
       "      <td>1.428845</td>\n",
       "      <td>-0.604926</td>\n",
       "      <td>-2.185691</td>\n",
       "      <td>-1.602394</td>\n",
       "      <td>-0.612146</td>\n",
       "      <td>-4.050126</td>\n",
       "      <td>0</td>\n",
       "    </tr>\n",
       "  </tbody>\n",
       "</table>\n",
       "<p>5 rows × 30 columns</p>\n",
       "</div>"
      ],
      "text/plain": [
       "       filename       tempo  beats  chroma_stft      rmse  spectral_centroid  \\\n",
       "0  pop.00024.au  117.453835     57     0.410990  0.207584        3301.781785   \n",
       "1  pop.00099.au   78.302557     38     0.360462  0.138195        2765.747194   \n",
       "2  pop.00009.au  107.666016     50     0.454810  0.159711        3279.877315   \n",
       "3  pop.00078.au  103.359375     52     0.454698  0.223419        3124.176350   \n",
       "4  pop.00037.au  103.359375     51     0.451668  0.240985        3236.413205   \n",
       "\n",
       "   spectral_bandwidth      rolloff  zero_crossing_rate       mfcc1  ...    \\\n",
       "0         3175.656592  7302.597509            0.144527  -40.802069  ...     \n",
       "1         3222.713605  6873.391771            0.096015 -119.320605  ...     \n",
       "2         3026.391118  6953.099622            0.172819  -35.277026  ...     \n",
       "3         2970.320532  6618.134981            0.142721  -42.757179  ...     \n",
       "4         2953.596262  6698.776160            0.164825    4.821123  ...     \n",
       "\n",
       "     mfcc12    mfcc13    mfcc14    mfcc15    mfcc16    mfcc17    mfcc18  \\\n",
       "0 -0.568772  0.552448 -1.981371  1.915755  0.076505 -1.270496  1.233082   \n",
       "1  1.566938 -2.932391 -1.609138 -0.200545 -2.429376  1.207988  5.848729   \n",
       "2 -0.518891  0.212918 -1.294660 -0.105626 -1.245879 -2.528455  0.571032   \n",
       "3  3.020176 -1.242321 -3.524069 -0.325165 -1.443294 -1.864617 -0.031307   \n",
       "4  1.753352  3.336132  2.352307  1.428845 -0.604926 -2.185691 -1.602394   \n",
       "\n",
       "     mfcc19    mfcc20  label  \n",
       "0  1.493700  0.949931      0  \n",
       "1  1.609469  7.580263      0  \n",
       "2  1.569434 -1.724873      0  \n",
       "3 -0.729631 -0.987611      0  \n",
       "4 -0.612146 -4.050126      0  \n",
       "\n",
       "[5 rows x 30 columns]"
      ]
     },
     "execution_count": 30,
     "metadata": {},
     "output_type": "execute_result"
    }
   ],
   "source": [
    "df.head()"
   ]
  },
  {
   "cell_type": "code",
   "execution_count": 31,
   "metadata": {},
   "outputs": [],
   "source": [
    "X = df.iloc[:, 1:-1]\n",
    "X_norm = normalize(X)\n",
    "y = df.iloc[:, -1]\n",
    "\n",
    "# Uncomment for no scaling\n",
    "# X_train, X_test, y_train, y_test = train_test_split(X, y, random_state = 0)\n",
    "# X_train, X_test, y_train, y_test = X_train.T.values, X_test.T.values, y_train.T.values.reshape(1, 150), y_test.T.values.reshape(1, 50)\n",
    "\n",
    "# Uncomment for scaled values\n",
    "X_train, X_test, y_train, y_test = train_test_split(X_norm, y, random_state = 0)\n",
    "X_train, X_test, y_train, y_test = X_train.T, X_test.T, y_train.values.reshape(1, 150), y_test.values.reshape(1, 50)"
   ]
  },
  {
   "cell_type": "code",
   "execution_count": 32,
   "metadata": {},
   "outputs": [
    {
     "data": {
      "text/plain": [
       "array([[0, 1, 1, 0, 1, 0, 0, 1, 0, 0, 1, 0, 1, 0, 1, 0, 0, 1, 0, 0, 1, 0,\n",
       "        1, 1, 1, 0, 1, 0, 0, 1, 1, 0, 1, 1, 1, 0, 0, 0, 1, 1, 0, 0, 1, 0,\n",
       "        1, 1, 1, 1, 0, 1, 1, 1, 0, 0, 0, 1, 0, 0, 1, 0, 0, 0, 0, 0, 0, 1,\n",
       "        0, 1, 1, 0, 0, 0, 1, 0, 1, 0, 0, 1, 1, 1, 0, 0, 0, 1, 1, 1, 1, 0,\n",
       "        1, 0, 1, 1, 0, 0, 0, 0, 1, 1, 0, 1, 1, 1, 0, 0, 1, 0, 1, 1, 0, 0,\n",
       "        1, 1, 0, 1, 1, 1, 0, 1, 1, 1, 0, 0, 0, 0, 1, 1, 1, 0, 0, 0, 1, 0,\n",
       "        1, 1, 1, 0, 0, 1, 0, 0, 0, 0, 0, 0, 1, 0, 1, 1, 0, 1]])"
      ]
     },
     "execution_count": 32,
     "metadata": {},
     "output_type": "execute_result"
    }
   ],
   "source": [
    "y_train"
   ]
  },
  {
   "cell_type": "code",
   "execution_count": 33,
   "metadata": {},
   "outputs": [
    {
     "name": "stdout",
     "output_type": "stream",
     "text": [
      "X_train shape: (28, 150)\n",
      "y_train shape: (1, 150)\n",
      "X_test shape: (28, 50)\n",
      "y_test shape: (1, 50)\n",
      "sanity check after reshaping: [9.57399190e-03 4.62029416e-03 4.18679444e-05 1.99767152e-05\n",
      " 3.67688554e-01]\n"
     ]
    }
   ],
   "source": [
    "print (\"X_train shape: \" + str(X_train.shape))\n",
    "print (\"y_train shape: \" + str(y_train.shape))\n",
    "print (\"X_test shape: \" + str(X_test.shape))\n",
    "print (\"y_test shape: \" + str(y_test.shape))\n",
    "print (\"sanity check after reshaping: \" + str(X_train[0:5,0]))"
   ]
  },
  {
   "cell_type": "code",
   "execution_count": 34,
   "metadata": {},
   "outputs": [],
   "source": [
    "# X_mod = X_train.T.values"
   ]
  },
  {
   "cell_type": "markdown",
   "metadata": {},
   "source": [
    "## Helper functions"
   ]
  },
  {
   "cell_type": "markdown",
   "metadata": {},
   "source": [
    "Sigmoid"
   ]
  },
  {
   "cell_type": "code",
   "execution_count": 35,
   "metadata": {},
   "outputs": [],
   "source": [
    "def sigmoid(z):\n",
    "    s = 1 / (1 + np.exp(-(z)))    \n",
    "    return s"
   ]
  },
  {
   "cell_type": "markdown",
   "metadata": {},
   "source": [
    "Initializing weights and bias"
   ]
  },
  {
   "cell_type": "code",
   "execution_count": 36,
   "metadata": {},
   "outputs": [],
   "source": [
    "def initialize_with_zeros(dim):\n",
    "    w = np.zeros((dim, 1)) # n x 1\n",
    "#     w = np.random.randn(dim, 1) * 0.1\n",
    "    b = 0                  \n",
    "    return w, b"
   ]
  },
  {
   "cell_type": "code",
   "execution_count": 37,
   "metadata": {},
   "outputs": [],
   "source": [
    "def propagate(w, b, X, Y):\n",
    "\n",
    "    m = X.shape[1]\n",
    "#     print(f'm is {m}')\n",
    "    A = sigmoid(np.dot(w.T, X) + b)                                    # compute activation\n",
    "#     print(f'A is {A} and 1-A is {1-A}')\n",
    "    cost = np.sum((Y * np.log(A)) + ((1-Y) * np.log(1-A))) * (-1/m)    # compute cost\n",
    "\n",
    "    dz = (A - Y)                # derivative of J wrt to z\n",
    "    dw = np.dot(X, dz.T) / m    # derivative of J wrt to w\n",
    "    db = np.sum(dz) / m         # derivative of J wrt to b\n",
    "    \n",
    "    grads = {\"dw\": dw,\n",
    "             \"db\": db}\n",
    "    \n",
    "    return grads, cost"
   ]
  },
  {
   "cell_type": "code",
   "execution_count": 38,
   "metadata": {},
   "outputs": [],
   "source": [
    "def optimize(w, b, X, Y, num_iterations, learning_rate, print_cost = False):\n",
    "    \n",
    "    costs = []\n",
    "    \n",
    "    for i in range(num_iterations):\n",
    "        \n",
    "        \n",
    "        # Cost and gradient calculation\n",
    "        grads, cost = propagate(w, b, X, Y)\n",
    "#         print(cost)\n",
    "        # Retrieve derivatives from grads\n",
    "        dw = grads[\"dw\"]\n",
    "        db = grads[\"db\"]\n",
    "        \n",
    "        w = w - (learning_rate * dw)\n",
    "        b = b - (learning_rate * db)\n",
    "        \n",
    "        # Record the costs for every 100 iteration \n",
    "        if i % 100 == 0:\n",
    "            costs.append(cost)\n",
    "        \n",
    "        # Print the cost every 100 training iterations\n",
    "        if print_cost and i % 100 == 0:\n",
    "            print (\"Cost after iteration %i: %f\" %(i, cost))\n",
    "        \n",
    "        \n",
    "    \n",
    "    params = {\"w\": w,\n",
    "              \"b\": b}\n",
    "    \n",
    "    grads = {\"dw\": dw,\n",
    "             \"db\": db}\n",
    "    \n",
    "    return params, grads, costs"
   ]
  },
  {
   "cell_type": "code",
   "execution_count": 39,
   "metadata": {},
   "outputs": [],
   "source": [
    "def predict(w, b, X):\n",
    "    \n",
    "    m = X.shape[1]\n",
    "    Y_prediction = np.zeros((1,m))\n",
    "#     print(w.shape)\n",
    "    w = w.reshape(X.shape[0], 1)\n",
    "    \n",
    "    A = sigmoid(np.dot(w.T, X) + b)\n",
    "    \n",
    "    # Convert probabilities A[0,i] to actual predictions p[0,i]\n",
    "#     print(A)\n",
    "    Y_prediction = (A > 0.5).astype(float)\n",
    "        \n",
    "    return Y_prediction"
   ]
  },
  {
   "cell_type": "code",
   "execution_count": 40,
   "metadata": {},
   "outputs": [],
   "source": [
    "def model(X_train, Y_train, X_test, Y_test, num_iterations = 2000, learning_rate = 0.5, print_cost = False):\n",
    "    \n",
    "    # initialize parameters with zeros (≈ 1 line of code)\n",
    "    w, b = initialize_with_zeros(X_train.shape[0])\n",
    "\n",
    "    # Gradient descent \n",
    "    parameters, grads, costs = optimize(w, b, X_train, Y_train, num_iterations=num_iterations, learning_rate=learning_rate)\n",
    "    \n",
    "    # Retrieve parameters w and b from dictionary \"parameters\"\n",
    "    w = parameters[\"w\"]\n",
    "    b = parameters[\"b\"]\n",
    "    \n",
    "    # Predict test/train set examples (≈ 2 lines of code)\n",
    "    Y_prediction_test = predict(w, b, X_test)\n",
    "    Y_prediction_train = predict(w, b, X_train)\n",
    "\n",
    "\n",
    "    # Print train/test Errors\n",
    "    print(\"train accuracy: {} %\".format(100 - np.mean(np.abs(Y_prediction_train - Y_train)) * 100))\n",
    "    print(\"test accuracy: {} %\".format(100 - np.mean(np.abs(Y_prediction_test - Y_test)) * 100))\n",
    "\n",
    "    \n",
    "    d = {\"costs\": costs,\n",
    "         \"Y_prediction_test\": Y_prediction_test.tolist(), \n",
    "         \"Y_prediction_train\" : Y_prediction_train.tolist(), \n",
    "         \"w\" : w.tolist(), \n",
    "         \"b\" : b,\n",
    "         \"learning_rate\" : learning_rate,\n",
    "         \"num_iterations\": num_iterations}\n",
    "    \n",
    "    return d"
   ]
  },
  {
   "cell_type": "code",
   "execution_count": 41,
   "metadata": {},
   "outputs": [
    {
     "name": "stdout",
     "output_type": "stream",
     "text": [
      "train accuracy: 92.66666666666667 %\n",
      "test accuracy: 98.0 %\n"
     ]
    }
   ],
   "source": [
    "clf = model(X_train, y_train, X_test, y_test, num_iterations = 4000, learning_rate = 0.05, print_cost = True)"
   ]
  },
  {
   "cell_type": "code",
   "execution_count": 42,
   "metadata": {},
   "outputs": [],
   "source": [
    "def preprocess(music_file):\n",
    "    to_predict = []\n",
    "    y, sr = librosa.load(music_file, mono=True, duration=30, offset=15)\n",
    "    tempo, beats = librosa.beat.beat_track(y=y, sr=sr)\n",
    "    # Append tempo\n",
    "    to_predict.append(tempo)\n",
    "    # Append beats\n",
    "    to_predict.append(beats.shape[0])\n",
    "    # Append chroma_stft\n",
    "    to_predict.append(np.mean(librosa.feature.chroma_stft(y=y, sr=sr)))\n",
    "    # Append rmse\n",
    "    to_predict.append(np.mean(librosa.feature.rmse(y=y)))\n",
    "    # Append spectral centroid\n",
    "    to_predict.append(np.mean(librosa.feature.spectral_centroid(y=y, sr=sr)))\n",
    "    # Append spectral bandwidth\n",
    "    to_predict.append(np.mean(librosa.feature.spectral_bandwidth(y=y, sr=sr)))\n",
    "    # Append roll-off\n",
    "    to_predict.append(np.mean(librosa.feature.spectral_rolloff(y=y, sr=sr)))\n",
    "    # Append zero crossing rate\n",
    "    to_predict.append(np.mean(librosa.feature.zero_crossing_rate(y)))\n",
    "    # Append mfccs\n",
    "    mfcc = librosa.feature.mfcc(y=y, sr=sr)\n",
    "    for e in mfcc:\n",
    "        to_predict.append(np.mean(e))\n",
    "\n",
    "    return to_predict"
   ]
  },
  {
   "cell_type": "code",
   "execution_count": 43,
   "metadata": {},
   "outputs": [],
   "source": [
    "music = preprocess('born_to_be_yours_kygo.mp3')"
   ]
  },
  {
   "cell_type": "code",
   "execution_count": 44,
   "metadata": {},
   "outputs": [],
   "source": [
    "music = np.array(music).reshape(28, 1)"
   ]
  },
  {
   "cell_type": "code",
   "execution_count": 45,
   "metadata": {},
   "outputs": [
    {
     "data": {
      "text/plain": [
       "28"
      ]
     },
     "execution_count": 45,
     "metadata": {},
     "output_type": "execute_result"
    }
   ],
   "source": [
    "len(music)"
   ]
  },
  {
   "cell_type": "code",
   "execution_count": 46,
   "metadata": {},
   "outputs": [
    {
     "data": {
      "text/plain": [
       "(28, 1)"
      ]
     },
     "execution_count": 46,
     "metadata": {},
     "output_type": "execute_result"
    }
   ],
   "source": [
    "music.shape"
   ]
  },
  {
   "cell_type": "code",
   "execution_count": 47,
   "metadata": {},
   "outputs": [],
   "source": [
    "classical = preprocess('leyenda.mp3')"
   ]
  },
  {
   "cell_type": "code",
   "execution_count": 48,
   "metadata": {},
   "outputs": [],
   "source": [
    "classical = np.array(classical).reshape(28, 1)"
   ]
  },
  {
   "cell_type": "code",
   "execution_count": 49,
   "metadata": {},
   "outputs": [
    {
     "name": "stderr",
     "output_type": "stream",
     "text": [
      "/home/insiyeah/.local/lib/python3.6/site-packages/ipykernel_launcher.py:2: RuntimeWarning: overflow encountered in exp\n",
      "  \n"
     ]
    },
    {
     "data": {
      "text/plain": [
       "array([[0.]])"
      ]
     },
     "execution_count": 49,
     "metadata": {},
     "output_type": "execute_result"
    }
   ],
   "source": [
    "predict(np.array(clf['w']), clf['b'], music)"
   ]
  },
  {
   "cell_type": "code",
   "execution_count": 50,
   "metadata": {},
   "outputs": [
    {
     "data": {
      "text/plain": [
       "array([[1.]])"
      ]
     },
     "execution_count": 50,
     "metadata": {},
     "output_type": "execute_result"
    }
   ],
   "source": [
    "predict(np.array(clf['w']), clf['b'], classical)"
   ]
  },
  {
   "cell_type": "code",
   "execution_count": 47,
   "metadata": {},
   "outputs": [],
   "source": [
    "import json"
   ]
  },
  {
   "cell_type": "code",
   "execution_count": 61,
   "metadata": {},
   "outputs": [],
   "source": [
    "# with open('model.json', 'w') as outfile:\n",
    "#     json.dump(clf, outfile)"
   ]
  },
  {
   "cell_type": "code",
   "execution_count": 65,
   "metadata": {},
   "outputs": [
    {
     "data": {
      "text/plain": [
       "0.061172099090340326"
      ]
     },
     "execution_count": 65,
     "metadata": {},
     "output_type": "execute_result"
    }
   ],
   "source": [
    "# with open('model.json') as f:\n",
    "#     model_dict = json.load(f)\n",
    "\n",
    "# model_dict['b']"
   ]
  },
  {
   "cell_type": "code",
   "execution_count": 27,
   "metadata": {},
   "outputs": [],
   "source": [
    "def one_vs_all():\n",
    "    pass"
   ]
  },
  {
   "cell_type": "code",
   "execution_count": null,
   "metadata": {},
   "outputs": [],
   "source": []
  }
 ],
 "metadata": {
  "kernelspec": {
   "display_name": "Python 3",
   "language": "python",
   "name": "python3"
  },
  "language_info": {
   "codemirror_mode": {
    "name": "ipython",
    "version": 3
   },
   "file_extension": ".py",
   "mimetype": "text/x-python",
   "name": "python",
   "nbconvert_exporter": "python",
   "pygments_lexer": "ipython3",
   "version": "3.6.5"
  }
 },
 "nbformat": 4,
 "nbformat_minor": 2
}
